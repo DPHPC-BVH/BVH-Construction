{
 "cells": [
  {
   "cell_type": "code",
   "execution_count": 11,
   "metadata": {},
   "outputs": [],
   "source": [
    "def find_block(path):\n",
    "    splits = path.split(\"/\")\n",
    "    block = splits[1]\n",
    "    return block"
   ]
  },
  {
   "cell_type": "code",
   "execution_count": 38,
   "metadata": {},
   "outputs": [
    {
     "name": "stdout",
     "output_type": "stream",
     "text": [
      "51\n",
      "[1.0, 2.0, 3.0, 4.0, 5.0, 6.0, 7.0, 8.0, 9.0, 10.0, 11.0, 12.0, 13.0, 14.0, 15.0, 16.0, 17.0, 18.0, 19.0, 20.0, 21.0, 22.0, 23.0, 24.0, 25.0, 26.0, 27.0, 28.0, 29.0, 30.0, 32.0, 34.0, 36.0, 38.0, 40.0, 45.0, 50.0, 60.0, 70.0, 80.0, 90.0, 100.0, 125.0, 150.0, 175.0, 200.0, 250.0, 300.0, 350.0, 400.0, -1.0]\n",
      "[30.2191, 57.564, 82.0174, 104.636, 124.167, 142.633, 159.327, 185.825, 206.073, 229.605, 245.089, 257.769, 260.972, 261.973, 265.358, 259.616, 238.664, 240.129, 247.91, 253.864, 256.978, 266.696, 268.047, 271.359, 269.932, 270.607, 270.499, 273.759, 264.889, 267.567, 241.094, 242.43, 234.992, 238.812, 257.032, 257.797, 291.739, 308.827, 308.301, 309.461, 297.274, 354.818, 347.707, 388.526, 405.023, 416.116, 401.182, 473.147, 494.583, 477.505, 474.012]\n"
     ]
    }
   ],
   "source": [
    "f = open(\"Scalability_Conference_BuildTreeHierarchy.txt\", \"r\")\n",
    "lines = f.readlines()\n",
    "count = 0\n",
    "x = []\n",
    "y = []\n",
    "for line in lines:\n",
    "    words = line.split()\n",
    "    # print(words)\n",
    "    if \"mean\" in words[0]:\n",
    "        count += 1\n",
    "        block = find_block(words[0])\n",
    "        x.append(float(block))\n",
    "        speed = words[-1][:-3]\n",
    "        y.append(float(speed))\n",
    "print(count)\n",
    "print(x)\n",
    "print(y)"
   ]
  },
  {
   "cell_type": "code",
   "execution_count": 39,
   "metadata": {},
   "outputs": [
    {
     "name": "stdout",
     "output_type": "stream",
     "text": [
      "[  1.   2.   3.   4.   5.   6.   7.   8.   9.  10.  11.  12.  13.  14.\n",
      "  15.  16.  17.  18.  19.  20.  21.  22.  23.  24.  25.  26.  27.  28.\n",
      "  29.  30.  32.  34.  36.  38.  40.  45.  50.  60.  70.  80.  90. 100.\n",
      " 125. 150. 175. 200. 250. 300. 350. 400.]\n",
      "[ 30.2191  57.564   82.0174 104.636  124.167  142.633  159.327  185.825\n",
      " 206.073  229.605  245.089  257.769  260.972  261.973  265.358  259.616\n",
      " 238.664  240.129  247.91   253.864  256.978  266.696  268.047  271.359\n",
      " 269.932  270.607  270.499  273.759  264.889  267.567  241.094  242.43\n",
      " 234.992  238.812  257.032  257.797  291.739  308.827  308.301  309.461\n",
      " 297.274  354.818  347.707  388.526  405.023  416.116  401.182  473.147\n",
      " 494.583  477.505 ]\n"
     ]
    },
    {
     "data": {
      "image/png": "[encoded data removed]",
      "text/plain": [
       "<Figure size 432x288 with 1 Axes>"
      ]
     },
     "metadata": {
      "needs_background": "light"
     },
     "output_type": "display_data"
    }
   ],
   "source": [
    "import matplotlib.pyplot as plt\n",
    "import numpy as np\n",
    "x = np.array(x[:-1])\n",
    "y = np.array(y[:-1])\n",
    "print(x)\n",
    "print(y)\n",
    "fig, ax = plt.subplots()\n",
    "#ax.plot(x, y, \"red\") draw more data with different color and style eg.\"--\"\n",
    "ax.plot(x, y)\n",
    "ax.set(xlabel='Block', ylabel='speed (M/s)',\n",
    "       title='Result')\n",
    "ax.grid()\n",
    "plt.show()"
   ]
  }
 ],
 "metadata": {
  "kernelspec": {
   "display_name": "Python 3",
   "language": "python",
   "name": "python3"
  },
  "language_info": {
   "codemirror_mode": {
    "name": "ipython",
    "version": 3
   },
   "file_extension": ".py",
   "mimetype": "text/x-python",
   "name": "python",
   "nbconvert_exporter": "python",
   "pygments_lexer": "ipython3",
   "version": "3.8.5"
  }
 },
 "nbformat": 4,
 "nbformat_minor": 4
}
