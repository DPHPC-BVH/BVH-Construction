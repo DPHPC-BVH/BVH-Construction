{
 "cells": [
  {
   "cell_type": "code",
   "execution_count": 13,
   "metadata": {},
   "outputs": [],
   "source": [
    "import pandas as pd\n",
    "import numpy as np\n",
    "def read_csv(path):\n",
    "    return pd.read_csv(path, header=9)\n",
    "\n",
    "df = read_csv(\"./conference.csv\")\n",
    "single_iterations = df[df['iterations'] == 1]\n",
    "time = np.array(single_iterations['real_time'])"
   ]
  },
  {
   "cell_type": "code",
   "execution_count": 19,
   "metadata": {},
   "outputs": [
    {
     "name": "stdout",
     "output_type": "stream",
     "text": [
      "(100,)\n",
      "[2543100. 2477920. 2502300. 2510500. 2479420. 2477890. 2454880. 2456420.\n",
      " 2518340. 2489790. 2502940. 2450340. 2545150. 2449660. 2487230. 2445470.\n",
      " 2506140. 2456510. 2472540. 2505600. 2496860. 2461180. 2469250. 2486880.\n",
      " 2476100. 2489540. 2530460. 2529630. 2491100. 2512320. 2507740. 2500860.\n",
      " 2533760. 2519740. 2512990. 2538080. 2545150. 2508000. 2557540. 2545380.\n",
      " 2523870. 2535390. 2633470. 2532770. 2542300. 2499970. 2478300. 2439940.\n",
      " 2484580. 2449730. 2463490. 2451100. 2497180. 2461540. 2511170. 2458370.\n",
      " 2480770. 2468480. 2529630. 2536480. 2873380. 2497860. 2517340. 2495870.\n",
      " 2532830. 2531680. 2495460. 2525890. 2533060. 2514110. 2486980. 2545600.\n",
      " 2496580. 2561380. 2505340. 2477220. 2490430. 2478020. 2525790. 2516900.\n",
      " 2468770. 2493060. 2449540. 2504930. 2469020. 2471580. 2512740. 2457470.\n",
      " 2486140. 2507170. 2521540. 2535710. 2534270. 2503040. 2503870. 2484640.\n",
      " 2493730. 2536800. 2511040. 2515550.]\n",
      "1.1082440168471916e-13\n",
      "Statistics=0.669, p=0.000\n",
      "Sample does not look Gaussian (reject H0)\n"
     ]
    }
   ],
   "source": [
    "# Shapiro-Wilk Test\n",
    "from numpy.random import seed\n",
    "from numpy.random import randn\n",
    "from scipy.stats import shapiro\n",
    "# seed the random number generator\n",
    "#seed(1)\n",
    "# generate univariate observations\n",
    "#data = 5 * randn(100) + 50\n",
    "data = time\n",
    "print(data.shape)\n",
    "print(data)\n",
    "# replace former with our data\n",
    "# normality test\n",
    "stat, p = shapiro(data)\n",
    "print(p)\n",
    "print('Statistics=%.3f, p=%.3f' % (stat, p))\n",
    "# interpret\n",
    "alpha = 0.05\n",
    "if p > alpha:\n",
    "\tprint('Sample looks Gaussian (fail to reject H0)')\n",
    "else:\n",
    "\tprint('Sample does not look Gaussian (reject H0)')"
   ]
  },
  {
   "cell_type": "code",
   "execution_count": 16,
   "metadata": {},
   "outputs": [
    {
     "data": {
      "image/png": "[encoded data removed]",
      "text/plain": [
       "<Figure size 432x288 with 1 Axes>"
      ]
     },
     "metadata": {
      "needs_background": "light"
     },
     "output_type": "display_data"
    }
   ],
   "source": [
    "from statsmodels.graphics.gofplots import qqplot\n",
    "from matplotlib import pyplot\n",
    "\n",
    "# q-q plot\n",
    "qqplot(data, line='s')\n",
    "pyplot.show()"
   ]
  },
  {
   "cell_type": "code",
   "execution_count": 8,
   "metadata": {},
   "outputs": [
    {
     "data": {
      "image/png": "[encoded data removed]",
      "text/plain": [
       "<Figure size 360x288 with 1 Axes>"
      ]
     },
     "metadata": {
      "needs_background": "light"
     },
     "output_type": "display_data"
    }
   ],
   "source": [
    "# box plot\n",
    "import matplotlib.pyplot as plt\n",
    "import numpy as np\n",
    "\n",
    "# Random test data\n",
    "np.random.seed(19680801)\n",
    "all_data = [np.random.normal(0, std, size=100) for std in range(1, 4)]\n",
    "labels = ['x1', 'x2', 'x3']\n",
    "\n",
    "fig, ax = plt.subplots(nrows=1, ncols=1, figsize=(5, 4))\n",
    "\n",
    "# notch shape box plot\n",
    "bplot = ax.boxplot(all_data,\n",
    "                     notch=True,  # notch shape, remove this to make it rectangle\n",
    "                     vert=True,  # vertical box alignment\n",
    "                     patch_artist=True,  # fill with color\n",
    "                     showmeans=True, meanline=True,\n",
    "                     labels=labels)  # will be used to label x-ticks\n",
    "ax.set_title('Notched box plot')\n",
    "\n",
    "# fill with colors\n",
    "colors = ['pink', 'lightblue', 'lightgreen']\n",
    "for patch, color in zip(bplot['boxes'], colors):\n",
    "    patch.set_facecolor(color)\n",
    "\n",
    "# adding horizontal grid lines\n",
    "ax.yaxis.grid(True)\n",
    "ax.set_xlabel('Three separate samples')\n",
    "ax.set_ylabel('Observed values')\n",
    "\n",
    "plt.show()"
   ]
  },
  {
   "cell_type": "code",
   "execution_count": 9,
   "metadata": {},
   "outputs": [
    {
     "name": "stdout",
     "output_type": "stream",
     "text": [
      "(100,)\n"
     ]
    }
   ],
   "source": [
    "print(time.shape)"
   ]
  },
  {
   "cell_type": "code",
   "execution_count": 10,
   "metadata": {},
   "outputs": [
    {
     "name": "stdout",
     "output_type": "stream",
     "text": [
      "                                                 name  iterations  real_time  \\\n",
      "0   BM_CudaBVHBuilderAlgorithmOnly/conference/iter...           1  2543100.0   \n",
      "1   BM_CudaBVHBuilderAlgorithmOnly/conference/iter...           1  2477920.0   \n",
      "2   BM_CudaBVHBuilderAlgorithmOnly/conference/iter...           1  2502300.0   \n",
      "3   BM_CudaBVHBuilderAlgorithmOnly/conference/iter...           1  2510500.0   \n",
      "4   BM_CudaBVHBuilderAlgorithmOnly/conference/iter...           1  2479420.0   \n",
      "..                                                ...         ...        ...   \n",
      "95  BM_CudaBVHBuilderAlgorithmOnly/conference/iter...           1  2484640.0   \n",
      "96  BM_CudaBVHBuilderAlgorithmOnly/conference/iter...           1  2493730.0   \n",
      "97  BM_CudaBVHBuilderAlgorithmOnly/conference/iter...           1  2536800.0   \n",
      "98  BM_CudaBVHBuilderAlgorithmOnly/conference/iter...           1  2511040.0   \n",
      "99  BM_CudaBVHBuilderAlgorithmOnly/conference/iter...           1  2515550.0   \n",
      "\n",
      "     cpu_time time_unit  bytes_per_second  items_per_second  label  \\\n",
      "0   4296340.0        ns               NaN               NaN    NaN   \n",
      "1   4209170.0        ns               NaN               NaN    NaN   \n",
      "2   4233190.0        ns               NaN               NaN    NaN   \n",
      "3   4233900.0        ns               NaN               NaN    NaN   \n",
      "4   4221670.0        ns               NaN               NaN    NaN   \n",
      "..        ...       ...               ...               ...    ...   \n",
      "95  4259620.0        ns               NaN               NaN    NaN   \n",
      "96  4268410.0        ns               NaN               NaN    NaN   \n",
      "97  4307810.0        ns               NaN               NaN    NaN   \n",
      "98  4271320.0        ns               NaN               NaN    NaN   \n",
      "99  4281520.0        ns               NaN               NaN    NaN   \n",
      "\n",
      "    error_occurred  error_message  primitives  primitives/s  \n",
      "0              NaN            NaN      282759   111187000.0  \n",
      "1              NaN            NaN      282759   114111000.0  \n",
      "2              NaN            NaN      282759   112999000.0  \n",
      "3              NaN            NaN      282759   112631000.0  \n",
      "4              NaN            NaN      282759   114042000.0  \n",
      "..             ...            ...         ...           ...  \n",
      "95             NaN            NaN      282759   113803000.0  \n",
      "96             NaN            NaN      282759   113388000.0  \n",
      "97             NaN            NaN      282759   111463000.0  \n",
      "98             NaN            NaN      282759   112606000.0  \n",
      "99             NaN            NaN      282759   112404000.0  \n",
      "\n",
      "[100 rows x 12 columns]\n"
     ]
    }
   ],
   "source": [
    "print(single_iterations)"
   ]
  },
  {
   "cell_type": "code",
   "execution_count": null,
   "metadata": {},
   "outputs": [],
   "source": [
    "from matplotlib import pyplot as plt\n",
    "fig, ax = plt.subplots()\n",
    "\n",
    "ax.hist(data, linewidth=0.5, edgecolor=\"white\")\n",
    "\n",
    "plt.show()"
   ]
  }
 ],
 "metadata": {
  "kernelspec": {
   "display_name": "Python 3",
   "language": "python",
   "name": "python3"
  },
  "language_info": {
   "codemirror_mode": {
    "name": "ipython",
    "version": 3
   },
   "file_extension": ".py",
   "mimetype": "text/x-python",
   "name": "python",
   "nbconvert_exporter": "python",
   "pygments_lexer": "ipython3",
   "version": "3.8.5"
  }
 },
 "nbformat": 4,
 "nbformat_minor": 4
}
